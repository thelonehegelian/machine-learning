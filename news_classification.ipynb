{
 "cells": [
  {
   "attachments": {},
   "cell_type": "markdown",
   "metadata": {},
   "source": [
    "!There is a bug in this, a mismatch between number of test_corpus and number of test_labels"
   ]
  },
  {
   "cell_type": "code",
   "execution_count": null,
   "metadata": {},
   "outputs": [],
   "source": [
    "from sklearn.feature_extraction.text import CountVectorizer\n",
    "from sklearn.preprocessing import LabelEncoder\n",
    "from sklearn.linear_model import LogisticRegression\n",
    "from sklearn.metrics import accuracy_score, classification_report\n",
    "import nltk\n",
    "from nltk.corpus import reuters, stopwords\n",
    "from nltk.tokenize import word_tokenize\n",
    "import re"
   ]
  },
  {
   "cell_type": "code",
   "execution_count": 85,
   "metadata": {},
   "outputs": [
    {
     "name": "stderr",
     "output_type": "stream",
     "text": [
      "[nltk_data] Downloading package reuters to\n",
      "[nltk_data]     /Users/leviathan/nltk_data...\n",
      "[nltk_data]   Package reuters is already up-to-date!\n"
     ]
    },
    {
     "data": {
      "text/plain": [
       "True"
      ]
     },
     "execution_count": 85,
     "metadata": {},
     "output_type": "execute_result"
    }
   ],
   "source": [
    "# get reuters dataset\n",
    "nltk.download('reuters')\n"
   ]
  },
  {
   "cell_type": "code",
   "execution_count": 86,
   "metadata": {},
   "outputs": [],
   "source": [
    "# extract list of documents for each category/label\n",
    "categories = ['gas', 'wheat', 'cocoa', 'sugar', 'coffee', 'gold', 'silver', 'platinum', 'palladium']\n",
    "doc_list = [fileid for category in categories for fileid in reuters.fileids(category)]"
   ]
  },
  {
   "cell_type": "code",
   "execution_count": 88,
   "metadata": {},
   "outputs": [],
   "source": [
    "\n",
    "# get preset training and test documents from reuters dataset\n",
    "train_doc = [doc for doc in doc_list if 'training' in doc]\n",
    "test_doc = [doc for doc in doc_list if 'test' in doc]"
   ]
  },
  {
   "cell_type": "code",
   "execution_count": 89,
   "metadata": {},
   "outputs": [],
   "source": [
    "# we join the words in the document to get the training and test corpus\n",
    "train_corpus = [\" \".join(reuters.words(doc)) for doc in train_doc]\n",
    "test_corpus = [\" \".join(reuters.words(doc)) for doc in test_doc]"
   ]
  },
  {
   "attachments": {},
   "cell_type": "markdown",
   "metadata": {},
   "source": [
    "**Cleaning the data**"
   ]
  },
  {
   "cell_type": "code",
   "execution_count": null,
   "metadata": {},
   "outputs": [],
   "source": [
    "# remove stopwords\n",
    "stop_words = stopwords.words('english')\n",
    "test_corpus = [word for word in test_corpus if word not in stop_words]\n",
    "train_corpus = [word for word in train_corpus if word not in stop_words]"
   ]
  },
  {
   "cell_type": "code",
   "execution_count": null,
   "metadata": {},
   "outputs": [],
   "source": [
    "# lowercase the entire corpus\n",
    "test_corpus = [word.lower() for word in test_corpus]\n",
    "train_corpus = [word.lower() for word in train_corpus]\n",
    "# remove punctuation using regular expressions\n",
    "# @note not a great way to do it becuase it leave a dangling apostrophe\n",
    "test_corpus = [re.sub(r'[^\\w\\s]', '', word) for word in test_corpus]\n",
    "train_corpus = [re.sub(r'[^\\w\\s]', '', word) for word in train_corpus]"
   ]
  },
  {
   "attachments": {},
   "cell_type": "markdown",
   "metadata": {},
   "source": [
    "**Setting up the model**"
   ]
  },
  {
   "cell_type": "code",
   "execution_count": null,
   "metadata": {},
   "outputs": [],
   "source": [
    "# Vectorize documents\n",
    "vectorizer = CountVectorizer()"
   ]
  },
  {
   "cell_type": "code",
   "execution_count": null,
   "metadata": {},
   "outputs": [],
   "source": [
    "bow_train = vectorizer.fit_transform(train_corpus)\n",
    "bow_test = vectorizer.transform(test_corpus)"
   ]
  },
  {
   "cell_type": "code",
   "execution_count": 91,
   "metadata": {},
   "outputs": [
    {
     "name": "stdout",
     "output_type": "stream",
     "text": [
      "Warning: The following categories appear in the test set but not in the training set:  {'castor-oil', 'palladium'}\n"
     ]
    }
   ],
   "source": [
    "# !there is a bug here\n",
    "# ensure that all labels in the test set also appear in the training set\n",
    "train_categories = [reuters.categories(doc)[0] for doc in train_doc]\n",
    "test_categories = [reuters.categories(doc)[0] for doc in test_doc]\n",
    "\n",
    "missing_categories = set(test_categories) - set(train_categories)\n",
    "\n",
    "if missing_categories:\n",
    "    print('Warning: The following categories appear in the test set but not in the training set: ', missing_categories)\n",
    "\n",
    "# add missing label to the test_labels\n",
    "test_labels = [label if label in train_categories else 'missing' for label in test_categories]\n"
   ]
  },
  {
   "cell_type": "code",
   "execution_count": null,
   "metadata": {},
   "outputs": [],
   "source": [
    "test_doc = [doc for doc in test_doc if reuters.categories(doc)[0] not in missing_categories]\n",
    "test_categories = [reuters.categories(doc)[0] for doc in test_doc]\n"
   ]
  },
  {
   "cell_type": "code",
   "execution_count": null,
   "metadata": {},
   "outputs": [],
   "source": [
    "\n",
    "encoder = LabelEncoder()\n",
    "train_labels = encoder.fit_transform(train_categories)\n",
    "test_labels = encoder.transform(test_categories)"
   ]
  },
  {
   "cell_type": "code",
   "execution_count": null,
   "metadata": {},
   "outputs": [],
   "source": [
    "\n",
    "classifier = LogisticRegression()\n",
    "classifier.fit(bow_train, train_labels)"
   ]
  },
  {
   "cell_type": "code",
   "execution_count": null,
   "metadata": {},
   "outputs": [],
   "source": [
    "\n",
    "test_predictions = classifier.predict(bow_test)\n",
    "print(\"Test Accuracy: \", accuracy_score(test_labels, test_predictions))\n",
    "print(classification_report(test_labels, test_predictions, target_names=encoder.classes_))"
   ]
  }
 ],
 "metadata": {
  "kernelspec": {
   "display_name": "Python 3",
   "language": "python",
   "name": "python3"
  },
  "language_info": {
   "codemirror_mode": {
    "name": "ipython",
    "version": 3
   },
   "file_extension": ".py",
   "mimetype": "text/x-python",
   "name": "python",
   "nbconvert_exporter": "python",
   "pygments_lexer": "ipython3",
   "version": "3.11.3"
  },
  "orig_nbformat": 4
 },
 "nbformat": 4,
 "nbformat_minor": 2
}
